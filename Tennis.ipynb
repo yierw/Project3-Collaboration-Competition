{
 "cells": [
  {
   "cell_type": "markdown",
   "metadata": {},
   "source": [
    "# Collaboration and Competition\n",
    "\n",
    "---\n",
    "\n",
    "You are welcome to use this coding environment to train your agent for the project.  Follow the instructions below to get started!\n",
    "\n",
    "### 1. Start the Environment\n",
    "\n",
    "Run the next code cell to install a few packages.  This line will take a few minutes to run!"
   ]
  },
  {
   "cell_type": "code",
   "execution_count": 1,
   "metadata": {},
   "outputs": [
    {
     "name": "stdout",
     "output_type": "stream",
     "text": [
      "\u001b[31mtensorflow 1.7.1 has requirement numpy>=1.13.3, but you'll have numpy 1.12.1 which is incompatible.\u001b[0m\r\n",
      "\u001b[31mipython 6.5.0 has requirement prompt-toolkit<2.0.0,>=1.0.15, but you'll have prompt-toolkit 3.0.5 which is incompatible.\u001b[0m\r\n"
     ]
    }
   ],
   "source": [
    "!pip -q install ./python"
   ]
  },
  {
   "cell_type": "markdown",
   "metadata": {},
   "source": [
    "The environment is already saved in the Workspace and can be accessed at the file path provided below. "
   ]
  },
  {
   "cell_type": "code",
   "execution_count": 2,
   "metadata": {},
   "outputs": [
    {
     "name": "stderr",
     "output_type": "stream",
     "text": [
      "INFO:unityagents:\n",
      "'Academy' started successfully!\n",
      "Unity Academy name: Academy\n",
      "        Number of Brains: 1\n",
      "        Number of External Brains : 1\n",
      "        Lesson number : 0\n",
      "        Reset Parameters :\n",
      "\t\t\n",
      "Unity brain name: TennisBrain\n",
      "        Number of Visual Observations (per agent): 0\n",
      "        Vector Observation space type: continuous\n",
      "        Vector Observation space size (per agent): 8\n",
      "        Number of stacked Vector Observation: 3\n",
      "        Vector Action space type: continuous\n",
      "        Vector Action space size (per agent): 2\n",
      "        Vector Action descriptions: , \n"
     ]
    }
   ],
   "source": [
    "from unityagents import UnityEnvironment\n",
    "import numpy as np\n",
    "\n",
    "env = UnityEnvironment(file_name=\"/data/Tennis_Linux_NoVis/Tennis\")"
   ]
  },
  {
   "cell_type": "markdown",
   "metadata": {},
   "source": [
    "Environments contain **_brains_** which are responsible for deciding the actions of their associated agents. Here we check for the first brain available, and set it as the default brain we will be controlling from Python."
   ]
  },
  {
   "cell_type": "code",
   "execution_count": 3,
   "metadata": {},
   "outputs": [],
   "source": [
    "# get the default brain\n",
    "brain_name = env.brain_names[0]\n",
    "brain = env.brains[brain_name]"
   ]
  },
  {
   "cell_type": "markdown",
   "metadata": {},
   "source": [
    "### 2. Examine the State and Action Spaces\n",
    "\n",
    "Run the code cell below to print some information about the environment."
   ]
  },
  {
   "cell_type": "code",
   "execution_count": 4,
   "metadata": {},
   "outputs": [
    {
     "name": "stdout",
     "output_type": "stream",
     "text": [
      "Number of agents: 2\n",
      "Size of each action: 2\n",
      "There are 2 agents. Each observes a state with length: 24\n",
      "The state for the first agent looks like: [ 0.          0.          0.          0.          0.          0.          0.\n",
      "  0.          0.          0.          0.          0.          0.          0.\n",
      "  0.          0.         -6.65278625 -1.5        -0.          0.\n",
      "  6.83172083  6.         -0.          0.        ]\n"
     ]
    }
   ],
   "source": [
    "# reset the environment\n",
    "env_info = env.reset(train_mode=True)[brain_name]\n",
    "\n",
    "# number of agents \n",
    "num_agents = len(env_info.agents)\n",
    "print('Number of agents:', num_agents)\n",
    "\n",
    "# size of each action\n",
    "action_size = brain.vector_action_space_size\n",
    "print('Size of each action:', action_size)\n",
    "\n",
    "# examine the state space \n",
    "states = env_info.vector_observations\n",
    "state_size = states.shape[1]\n",
    "print('There are {} agents. Each observes a state with length: {}'.format(states.shape[0], state_size))\n",
    "print('The state for the first agent looks like:', states[0])"
   ]
  },
  {
   "cell_type": "markdown",
   "metadata": {},
   "source": [
    "### 3. Take Random Actions in the Environment\n",
    "\n",
    "In the next code cell, you will learn how to use the Python API to control the agent and receive feedback from the environment.\n",
    "\n",
    "Note that **in this coding environment, you will not be able to watch the agents while they are training**, and you should set `train_mode=True` to restart the environment."
   ]
  },
  {
   "cell_type": "code",
   "execution_count": 6,
   "metadata": {},
   "outputs": [
    {
     "name": "stdout",
     "output_type": "stream",
     "text": [
      "Total score (averaged over agents) this episode: -0.004999999888241291 15\n",
      "Total score (averaged over agents) this episode: -0.004999999888241291 16\n",
      "Total score (averaged over agents) this episode: -0.004999999888241291 14\n",
      "Total score (averaged over agents) this episode: -0.004999999888241291 13\n",
      "Total score (averaged over agents) this episode: -0.004999999888241291 21\n"
     ]
    }
   ],
   "source": [
    "for i in range(5):                                         \n",
    "    env_info = env.reset(train_mode=False)[brain_name]     \n",
    "    states = env_info.vector_observations                  \n",
    "    scores = np.zeros(num_agents)                          \n",
    "    counter = 0\n",
    "    while True:\n",
    "        counter += 1\n",
    "        actions = np.random.randn(num_agents, action_size) \n",
    "        actions = np.clip(actions, -1, 1)                  \n",
    "        env_info = env.step(actions)[brain_name]           \n",
    "        next_states = env_info.vector_observations         \n",
    "        rewards = env_info.rewards                         \n",
    "        dones = env_info.local_done                        \n",
    "\n",
    "        scores += env_info.rewards                        \n",
    "        states = next_states                               \n",
    "        if np.any(dones):                                  \n",
    "            break\n",
    "    print('Total score (averaged over agents) this episode: {} {}'.format(np.mean(scores),counter))\n"
   ]
  },
  {
   "cell_type": "markdown",
   "metadata": {},
   "source": [
    "### 4. It's Your Turn!\n",
    "\n",
    "Now it's your turn to train your own agent to solve the environment!  A few **important notes**:\n",
    "- When training the environment, set `train_mode=True`, so that the line for resetting the environment looks like the following:\n",
    "```python\n",
    "env_info = env.reset(train_mode=True)[brain_name]\n",
    "```\n",
    "- To structure your work, you're welcome to work directly in this Jupyter notebook, or you might like to start over with a new file!  You can see the list of files in the workspace by clicking on **_Jupyter_** in the top left corner of the notebook.\n",
    "- In this coding environment, you will not be able to watch the agents while they are training.  However, **_after training the agents_**, you can download the saved model weights to watch the agents on your own machine! "
   ]
  },
  {
   "cell_type": "code",
   "execution_count": 6,
   "metadata": {},
   "outputs": [],
   "source": [
    "from maddpg import MADDPGAgent\n",
    "from collections import deque\n",
    "import matplotlib.pyplot as plt\n",
    "import torch\n",
    "\n",
    "o_dim = 24\n",
    "a_dim = 2\n",
    "x_dim = num_agents * o_dim\n",
    "\n",
    "LR_ACTOR = 1e-2   \n",
    "LR_CRITIC = 1e-4       \n",
    "LEARN_NUM = 1\n",
    "BATCH_SIZE = 128        \n",
    "GAMMA = .99           \n",
    "TAU = 0.001             \n",
    "BUFFER_SIZE = int(1e6)  \n",
    "\n",
    "eps_start = 1.0\n",
    "eps_end = 0.01\n",
    "eps_decay = 0.99\n",
    "\n",
    "maddpg = MADDPGAgent(num_agents, x_dim, o_dim, a_dim, \n",
    "                     lr_actor = LR_ACTOR, lr_critic = LR_CRITIC, learn_num = LEARN_NUM,\n",
    "                     batch_size = BATCH_SIZE, gamma = GAMMA, tau = TAU, \n",
    "                     buffer_size = BUFFER_SIZE, seed = 1234)\n",
    "\n",
    "NUM_EPISODES = 2500\n",
    "PRINT_EVERY = 100"
   ]
  },
  {
   "cell_type": "code",
   "execution_count": 7,
   "metadata": {},
   "outputs": [
    {
     "name": "stdout",
     "output_type": "stream",
     "text": [
      "Episode 100\t score     0.00\t mean score     0.00\n",
      "Episode 200\t score     0.00\t mean score     0.01\n",
      "Episode 300\t score     0.10\t mean score     0.03\n",
      "Episode 400\t score     0.00\t mean score     0.01\n",
      "Episode 500\t score     0.00\t mean score     0.00\n",
      "Episode 600\t score     0.00\t mean score     0.00\n",
      "Episode 700\t score     0.00\t mean score     0.00\n",
      "Episode 800\t score     0.00\t mean score     0.01\n",
      "Episode 900\t score     0.00\t mean score     0.02\n",
      "Episode 1000\t score     0.00\t mean score     0.02\n",
      "Episode 1100\t score     0.09\t mean score     0.02\n",
      "Episode 1200\t score     0.10\t mean score     0.04\n",
      "Episode 1300\t score     0.10\t mean score     0.05\n",
      "Episode 1400\t score     0.09\t mean score     0.07\n",
      "Episode 1500\t score     0.40\t mean score     0.13\n",
      "Episode 1600\t score     0.70\t mean score     0.15\n",
      "Episode 1700\t score     0.80\t mean score     0.14\n",
      "Episode 1800\t score     0.20\t mean score     0.32\n",
      "Episode 1900\t score     0.10\t mean score     0.26\n",
      "Episode 2000\t score     0.10\t mean score     0.49\n",
      "Episode 2010\t score     0.70\t mean score     0.50\t saved!\n",
      "Episode 2012\t score     1.00\t mean score     0.51\t saved!\n",
      "Episode 2016\t score     0.90\t mean score     0.52\t saved!\n",
      "Episode 2018\t score     0.60\t mean score     0.52\t saved!\n",
      "Episode 2019\t score     0.20\t mean score     0.52\t saved!\n",
      "Episode 2020\t score     0.10\t mean score     0.52\t saved!\n",
      "Episode 2021\t score     0.20\t mean score     0.52\t saved!\n",
      "Episode 2022\t score     0.30\t mean score     0.52\t saved!\n",
      "Episode 2023\t score     0.20\t mean score     0.53\t saved!\n",
      "Episode 2024\t score     0.50\t mean score     0.53\t saved!\n",
      "Episode 2025\t score     0.50\t mean score     0.53\t saved!\n",
      "Episode 2026\t score     0.50\t mean score     0.53\t saved!\n",
      "Episode 2027\t score     0.50\t mean score     0.54\t saved!\n",
      "Episode 2028\t score     1.40\t mean score     0.54\t saved!\n",
      "Episode 2029\t score     0.60\t mean score     0.55\t saved!\n",
      "Episode 2030\t score     0.40\t mean score     0.55\t saved!\n",
      "Episode 2032\t score     1.20\t mean score     0.56\t saved!\n",
      "Episode 2034\t score     1.70\t mean score     0.57\t saved!\n",
      "Episode 2035\t score     0.20\t mean score     0.57\t saved!\n",
      "Episode 2100\t score     0.20\t mean score     0.30\n",
      "Episode 2200\t score     0.10\t mean score     0.20\n",
      "Episode 2300\t score     0.20\t mean score     0.20\n",
      "Episode 2400\t score     0.10\t mean score     0.16\n",
      "Episode 2500\t score     0.10\t mean score     0.17\n"
     ]
    }
   ],
   "source": [
    "# train agents\n",
    "\n",
    "score_list = []\n",
    "score_window = deque(maxlen = PRINT_EVERY)\n",
    "\n",
    "\n",
    "eps = eps_start\n",
    "best_score = 0.5\n",
    "for e in range(1, NUM_EPISODES+1):  \n",
    "    env_info = env.reset(train_mode=True)[brain_name]   # reset environment\n",
    "    states = env_info.vector_observations \n",
    "    scores = np.zeros(num_agents)  \n",
    "    while True:\n",
    "        actions = maddpg.get_actions(states, eps)\n",
    "        \n",
    "        env_info = env.step(actions)[brain_name]  \n",
    "        next_states = env_info.vector_observations   \n",
    "        dones = env_info.local_done\n",
    "        rewards = env_info.rewards\n",
    "        \n",
    "        maddpg.step(states, actions, rewards, next_states, dones )\n",
    "        \n",
    "        states = next_states \n",
    "        scores += rewards \n",
    "        if np.any(dones):                                  \n",
    "            break   \n",
    "    \n",
    "    eps = max(eps_end, eps_decay*eps) # decrease exploartion\n",
    "    max_score = np.max(scores) # max score among the agents\n",
    "    \n",
    "    score_window.append(max_score)\n",
    "    mean_score = np.mean(score_window)\n",
    "    score_list.append([max_score, mean_score])\n",
    "    \n",
    "    maddpg.lr_scheduler()\n",
    "    \n",
    "    print('\\rEpisode {}\\t score {:8.2f}\\t mean score {:8.2f}'.format(e, max_score, mean_score), end = \"\")\n",
    "    if e % PRINT_EVERY == 0:\n",
    "        print('\\rEpisode {}\\t score {:8.2f}\\t mean score {:8.2f}'.format(e, max_score, mean_score))\n",
    "        \n",
    "    if mean_score>= best_score:\n",
    "        print('\\rEpisode {}\\t score {:8.2f}\\t mean score {:8.2f}\\t saved!'.format(e, max_score, mean_score))\n",
    "        best_score = mean_score\n",
    "        for i, agent in enumerate(maddpg.agents):\n",
    "            torch.save(agent.actor.state_dict(), 'checkpoint_actor'+str(i)+'.pth')\n",
    "            torch.save(agent.critic.state_dict(), 'checkpoint_critic'+str(i)+'.pth')"
   ]
  },
  {
   "cell_type": "code",
   "execution_count": 8,
   "metadata": {},
   "outputs": [
    {
     "data": {
      "image/png": "[encoded data removed]",
      "text/plain": [
       "<matplotlib.figure.Figure at 0x7f4cb5adfef0>"
      ]
     },
     "metadata": {
      "needs_background": "light"
     },
     "output_type": "display_data"
    }
   ],
   "source": [
    "fig = plt.figure()\n",
    "ax = fig.add_subplot(111)\n",
    "plt.plot(np.arange(len(score_list)), score_list)\n",
    "plt.ylabel('Score')\n",
    "plt.xlabel('Episode #')\n",
    "plt.show()"
   ]
  },
  {
   "cell_type": "code",
   "execution_count": 10,
   "metadata": {},
   "outputs": [
    {
     "name": "stdout",
     "output_type": "stream",
     "text": [
      "Total score (averaged over agents) this episode: 0.7950000120326877\n",
      "Total score (averaged over agents) this episode: 0.04500000085681677\n",
      "Total score (averaged over agents) this episode: 0.44500000681728125\n",
      "Total score (averaged over agents) this episode: 0.04000000096857548\n",
      "Total score (averaged over agents) this episode: 0.1450000023469329\n"
     ]
    }
   ],
   "source": [
    "# watch trained agents\n",
    "for i, agent in enumerate(maddpg.agents):\n",
    "    agent.actor.load_state_dict(torch.load('checkpoint_actor'+str(i)+'.pth'))\n",
    "\n",
    "for i in range(5):                                         \n",
    "    env_info = env.reset(train_mode=False)[brain_name]     \n",
    "    states = env_info.vector_observations                  \n",
    "    scores = np.zeros(num_agents)                          \n",
    "    while True:\n",
    "        actions = maddpg.get_actions(states, eps)               \n",
    "        env_info = env.step(actions)[brain_name]           \n",
    "        next_states = env_info.vector_observations         \n",
    "        rewards = env_info.rewards                         \n",
    "        dones = env_info.local_done                        \n",
    "\n",
    "        scores += env_info.rewards                        \n",
    "        states = next_states                               \n",
    "        if np.any(dones):                                  \n",
    "            break\n",
    "    print('Total score (averaged over agents) this episode: {}'.format(np.mean(scores)))"
   ]
  },
  {
   "cell_type": "markdown",
   "metadata": {},
   "source": [
    "When finished, you can close the environment."
   ]
  },
  {
   "cell_type": "code",
   "execution_count": 11,
   "metadata": {},
   "outputs": [],
   "source": [
    "env.close()"
   ]
  },
  {
   "cell_type": "code",
   "execution_count": null,
   "metadata": {},
   "outputs": [],
   "source": []
  }
 ],
 "metadata": {
  "kernelspec": {
   "display_name": "Python 3",
   "language": "python",
   "name": "python3"
  },
  "language_info": {
   "codemirror_mode": {
    "name": "ipython",
    "version": 3
   },
   "file_extension": ".py",
   "mimetype": "text/x-python",
   "name": "python",
   "nbconvert_exporter": "python",
   "pygments_lexer": "ipython3",
   "version": "3.6.3"
  }
 },
 "nbformat": 4,
 "nbformat_minor": 2
}
